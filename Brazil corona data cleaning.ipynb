{
 "cells": [
  {
   "cell_type": "code",
   "execution_count": 1,
   "id": "9b648ca9",
   "metadata": {},
   "outputs": [],
   "source": [
    "import pandas as pd\n",
    "import matplotlib as plt\n",
    "import numpy as np"
   ]
  },
  {
   "cell_type": "markdown",
   "id": "3d7d5ec4",
   "metadata": {},
   "source": [
    "#### - Read raw csv's"
   ]
  },
  {
   "cell_type": "code",
   "execution_count": 2,
   "id": "31449ff9",
   "metadata": {},
   "outputs": [],
   "source": [
    "## Read all the csv's from brazil and save in a dictionary\n",
    "\n",
    "YEAR = \"2020\",\"2021\",'2022'\n",
    "SEMESTER = '1', '2'\n",
    "\n",
    "def get_br_data():\n",
    "    \n",
    "    data_br = {}\n",
    "\n",
    "    for year in YEAR:\n",
    "        for semester in SEMESTER:\n",
    "            df_br = pd.read_csv('data/raw/brazil_raw/COVIDBR_{semester}_SEM_{year}.csv'.format(semester=semester,year=year),\n",
    "                                sep=';', parse_dates=[\"data\"],dayfirst=True)\n",
    "            data_br.update({f\"{year}_{semester}\":df_br})\n",
    "    return data_br"
   ]
  },
  {
   "cell_type": "code",
   "execution_count": 3,
   "id": "af3c7c19",
   "metadata": {},
   "outputs": [
    {
     "name": "stderr",
     "output_type": "stream",
     "text": [
      "C:\\Users\\Jonas\\AppData\\Local\\Temp\\ipykernel_8836\\503226313.py:1: DtypeWarning: Columns (0,1) have mixed types.Specify dtype option on import or set low_memory=False.\n",
      "  data_br = get_br_data()\n",
      "C:\\Users\\Jonas\\AppData\\Local\\Temp\\ipykernel_8836\\503226313.py:1: DtypeWarning: Columns (0,1,10) have mixed types.Specify dtype option on import or set low_memory=False.\n",
      "  data_br = get_br_data()\n"
     ]
    }
   ],
   "source": [
    "data_br = get_br_data()"
   ]
  },
  {
   "cell_type": "markdown",
   "id": "81024bd0",
   "metadata": {},
   "source": [
    "####  - Population data treatment"
   ]
  },
  {
   "cell_type": "code",
   "execution_count": 4,
   "id": "068779fb",
   "metadata": {},
   "outputs": [],
   "source": [
    "# Brazil population data treatment\n",
    "df_pop_teste = pd.concat([data_br['2020_1'],data_br['2020_2'],\n",
    "          data_br['2021_1'],data_br['2021_2'],\n",
    "          data_br['2022_1'],data_br['2022_2']])"
   ]
  },
  {
   "cell_type": "code",
   "execution_count": 5,
   "id": "c4b48481",
   "metadata": {},
   "outputs": [],
   "source": [
    "# removing unwated columns\n",
    "\n",
    "df_pop_teste = df_pop_teste.drop(['regiao', 'municipio','coduf', 'codmun', 'codRegiaoSaude', 'nomeRegiaoSaude','semanaEpi',\n",
    "              'Recuperadosnovos', 'emAcompanhamentoNovos','interior/metropolitana',\n",
    "              'data','casosNovos','casosAcumulado', 'obitosNovos','obitosAcumulado'], axis=1) ## Remove unwanted columns\n",
    "df_pop_teste = df_pop_teste.dropna() ## Remove NaN"
   ]
  },
  {
   "cell_type": "code",
   "execution_count": 6,
   "id": "bdefe5a3",
   "metadata": {},
   "outputs": [],
   "source": [
    "# remove duplicates\n",
    "df_pop_teste = df_pop_teste.drop_duplicates()"
   ]
  },
  {
   "cell_type": "code",
   "execution_count": 7,
   "id": "e94b4ffc",
   "metadata": {},
   "outputs": [],
   "source": [
    "# Create area column\n",
    "df_pop_teste['area'] = df_pop_teste['estado']"
   ]
  },
  {
   "cell_type": "code",
   "execution_count": 8,
   "id": "991b8f9f",
   "metadata": {},
   "outputs": [],
   "source": [
    "# Dictionary of codes and brazilian states\n",
    "REPLACE_AREA_BR = {\n",
    "    'AC': 'Acre',\n",
    "    'AL': 'Alagoas',\n",
    "    'AP': 'Amapá',\n",
    "    'AM': 'Amazonas',\n",
    "    'BA': 'Bahia',\n",
    "    'CE': 'Ceará',\n",
    "    'DF': 'Distrito Federal',\n",
    "    'ES': 'Espírito Santo',\n",
    "    'GO': 'Goiás',\n",
    "    'MA': 'Maranhão',\n",
    "    'MT': 'Mato Grosso',\n",
    "    'MS': 'Mato Grosso do Sul',\n",
    "    'MG': 'Minas Gerais',\n",
    "    'PA': 'Pará',\n",
    "    'PB': 'Paraíba',\n",
    "    'PR': 'Paraná',\n",
    "    'PE': 'Pernambuco',\n",
    "    'PI': 'Piauí',\n",
    "    'RJ': 'Rio de Janeiro',\n",
    "    'RN': 'Rio Grande do Norte',\n",
    "    'RS': 'Rio Grande do Sul',\n",
    "    'RO': 'Rondônia',\n",
    "    'RR': 'Roraima',\n",
    "    'SC': 'Santa Catarina',\n",
    "    'SP': 'São Paulo',\n",
    "    'SE': 'Sergipe',\n",
    "    'TO': 'Tocantins'\n",
    "}"
   ]
  },
  {
   "cell_type": "code",
   "execution_count": 9,
   "id": "313136bb",
   "metadata": {},
   "outputs": [],
   "source": [
    "# Replacing area codes to full state name\n",
    "df_pop_teste = df_pop_teste.replace({'area':REPLACE_AREA_BR})"
   ]
  },
  {
   "cell_type": "code",
   "execution_count": 10,
   "id": "c0171904",
   "metadata": {},
   "outputs": [],
   "source": [
    "# Add group column 'brazil'\n",
    "df_pop_teste['group'] = 'brazil'"
   ]
  },
  {
   "cell_type": "code",
   "execution_count": 11,
   "id": "cc265758",
   "metadata": {},
   "outputs": [],
   "source": [
    "# Reshaping dataframe\n",
    "df_popu_bra = {'group': df_pop_teste['group'], 'area': df_pop_teste['area'], 'code': df_pop_teste['estado'],\n",
    "        'population':df_pop_teste['populacaoTCU2019']}\n",
    "df_br_popu = pd.DataFrame(df_popu_bra)"
   ]
  },
  {
   "cell_type": "code",
   "execution_count": 55,
   "id": "36d7a7f0",
   "metadata": {},
   "outputs": [],
   "source": [
    "# Read all population csv (containing usa and world data)\n",
    "\n",
    "all_pop = pd.read_csv('data/population.csv')"
   ]
  },
  {
   "cell_type": "code",
   "execution_count": 57,
   "id": "8544dc48",
   "metadata": {},
   "outputs": [],
   "source": [
    "# Merge with brazil population data\n",
    "all_pop_df = pd.concat([all_pop,df_br_popu])"
   ]
  },
  {
   "cell_type": "code",
   "execution_count": 62,
   "id": "e628d173",
   "metadata": {},
   "outputs": [],
   "source": [
    "# Create new all population csv with brazil data included.\n",
    "\n",
    "all_pop_df.to_csv('data/population.csv', index= False)"
   ]
  },
  {
   "cell_type": "markdown",
   "id": "d501c286",
   "metadata": {},
   "source": [
    "#### Creating brazil_cases csv"
   ]
  },
  {
   "cell_type": "code",
   "execution_count": 36,
   "id": "f77dd8ea",
   "metadata": {},
   "outputs": [
    {
     "name": "stderr",
     "output_type": "stream",
     "text": [
      "C:\\Users\\Jonas\\AppData\\Local\\Temp\\ipykernel_8836\\204156669.py:3: DtypeWarning: Columns (0,1) have mixed types.Specify dtype option on import or set low_memory=False.\n",
      "  data_brasil = get_br_data()\n",
      "C:\\Users\\Jonas\\AppData\\Local\\Temp\\ipykernel_8836\\204156669.py:3: DtypeWarning: Columns (0,1,10) have mixed types.Specify dtype option on import or set low_memory=False.\n",
      "  data_brasil = get_br_data()\n"
     ]
    }
   ],
   "source": [
    "## Creating dataframe\n",
    "\n",
    "data_brasil = get_br_data()"
   ]
  },
  {
   "cell_type": "code",
   "execution_count": 37,
   "id": "6453f623",
   "metadata": {},
   "outputs": [],
   "source": [
    "# remove unwated columns\n",
    "def remove_na_cases(df):\n",
    "\n",
    "    df = df.drop(['regiao', 'municipio','coduf', 'codmun', 'codRegiaoSaude', 'nomeRegiaoSaude','semanaEpi','Recuperadosnovos', 'emAcompanhamentoNovos','interior/metropolitana','populacaoTCU2019','casosNovos','obitosAcumulado', 'obitosNovos','populacaoTCU2019'], axis=1) \n",
    "    df = df.dropna() ## Remove NaN\n",
    "    return df"
   ]
  },
  {
   "cell_type": "code",
   "execution_count": 38,
   "id": "f41f66cd",
   "metadata": {},
   "outputs": [],
   "source": [
    "# Selecting Columns\n",
    "def get_columns(df):\n",
    "    \n",
    "    first_col = df.columns[0] # Area change and filtering\n",
    "    df = df.replace({first_col:REPLACE_AREA_BR})# Area change and filtering\n",
    "    filt_us = df[first_col] != 'Brasil'# Area change and filtering\n",
    "    df = df[filt_us]# Area change and filtering\n",
    "    df['data'] =pd.to_datetime(df['data'], format='%d-%m-%Y')\n",
    "    return df"
   ]
  },
  {
   "cell_type": "code",
   "execution_count": 39,
   "id": "1a6fe1d0",
   "metadata": {},
   "outputs": [],
   "source": [
    "## Pivoting and index reset\n",
    "\n",
    "def df_cleaning_cases(df):\n",
    "    \n",
    "    df = df.pivot(index='estado', columns='data', values='casosAcumulado')\n",
    "    df = df.T\n",
    "    df = df.reset_index()\n",
    "    df = df.rename(columns = {'data':'Province_State'})\n",
    "    df['Province_State'] = df['Province_State'].astype(str)\n",
    "    return df"
   ]
  },
  {
   "cell_type": "code",
   "execution_count": 40,
   "id": "d1d1a560",
   "metadata": {},
   "outputs": [],
   "source": [
    "# Creating clean brazil dataframe \n",
    "\n",
    "databr_clean_c = {}\n",
    "\n",
    "for keys in data_brasil.keys():\n",
    "    df = data_brasil[keys]\n",
    "    df = remove_na_cases(df)\n",
    "    df = get_columns(df)\n",
    "    df = df_cleaning_cases(df)\n",
    "    databr_clean_c[keys] = df"
   ]
  },
  {
   "cell_type": "code",
   "execution_count": 41,
   "id": "3cb714ae",
   "metadata": {},
   "outputs": [],
   "source": [
    "## Concat clean dataframes\n",
    "df_clean_c = pd.concat([databr_clean_c['2020_1'],databr_clean_c['2020_2'],\n",
    "          databr_clean_c['2021_1'],databr_clean_c['2021_2'],\n",
    "          databr_clean_c['2022_1'],databr_clean_c['2022_2']])"
   ]
  },
  {
   "cell_type": "code",
   "execution_count": 42,
   "id": "678b7426",
   "metadata": {},
   "outputs": [],
   "source": [
    "## Transposing\n",
    "df_clean_c = df_clean_c.T"
   ]
  },
  {
   "cell_type": "code",
   "execution_count": 43,
   "id": "b7de1c92",
   "metadata": {},
   "outputs": [],
   "source": [
    "# Index Reset\n",
    "df_clean_c = df_clean_c.reset_index()"
   ]
  },
  {
   "cell_type": "code",
   "execution_count": 44,
   "id": "dbfb99aa",
   "metadata": {},
   "outputs": [],
   "source": [
    "# header / index reshaping\n",
    "\n",
    "new_header = df_clean_c.iloc[0] #grab the first row for the header\n",
    "df_clean_c = df_clean_c[1:] #take the data less the header row\n",
    "df_clean_c.columns = new_header #set the header row as the df header"
   ]
  },
  {
   "cell_type": "code",
   "execution_count": 45,
   "id": "85c8edb4",
   "metadata": {},
   "outputs": [],
   "source": [
    "# Rename column 'estado' to match usa/world data\n",
    "\n",
    "df_clean_c = df_clean_c.rename(columns = {'estado':'Province_State'})"
   ]
  },
  {
   "cell_type": "code",
   "execution_count": 46,
   "id": "2aa934a0",
   "metadata": {},
   "outputs": [],
   "source": [
    "## remove index header\n",
    "\n",
    "df_clean_c.columns = df_clean_c.columns.rename(None)"
   ]
  },
  {
   "cell_type": "code",
   "execution_count": null,
   "id": "f2c392f4",
   "metadata": {},
   "outputs": [],
   "source": [
    "## Saved to csv alongside with USA and World data\n",
    "\n",
    "df_clean_c.to_csv('data/raw/brazil_cases.csv', index= False)"
   ]
  },
  {
   "cell_type": "markdown",
   "id": "3112e744",
   "metadata": {},
   "source": [
    "#### Creating brazil_deaths csv"
   ]
  },
  {
   "cell_type": "code",
   "execution_count": null,
   "id": "c988f158",
   "metadata": {},
   "outputs": [],
   "source": [
    "# remove unwated columns\n",
    "def remove_na_deaths(df):\n",
    "\n",
    "    df = df.drop(['regiao', 'municipio','coduf', 'codmun', 'codRegiaoSaude', 'nomeRegiaoSaude','semanaEpi','Recuperadosnovos', 'emAcompanhamentoNovos','interior/metropolitana','populacaoTCU2019','casosNovos','casosAcumulado', 'obitosNovos','populacaoTCU2019'], axis=1) \n",
    "    df = df.dropna() ## Remove NaN\n",
    "    return df"
   ]
  },
  {
   "cell_type": "code",
   "execution_count": null,
   "id": "3fa697d5",
   "metadata": {},
   "outputs": [],
   "source": [
    "## Pivoting and index reset\n",
    "\n",
    "def df_cleaning_deaths(df):\n",
    "    \n",
    "    df = df.pivot(index='estado', columns='data', values='obitosAcumulado')\n",
    "    df = df.T\n",
    "    df = df.reset_index()\n",
    "    df = df.rename(columns = {'data':'Province_State'})\n",
    "    df['Province_State'] = df['Province_State'].astype(str)\n",
    "    return df"
   ]
  },
  {
   "cell_type": "code",
   "execution_count": null,
   "id": "4ee0ad12",
   "metadata": {},
   "outputs": [],
   "source": [
    "# Creating clean brazil dataframe \n",
    "\n",
    "databr_clean_d = {}\n",
    "\n",
    "for keys in data_brasil.keys():\n",
    "    df = data_brasil[keys]\n",
    "    df = remove_na_deaths(df)\n",
    "    df = get_columns(df)\n",
    "    df = df_cleaning_deaths(df)\n",
    "    databr_clean_d[keys] = df"
   ]
  },
  {
   "cell_type": "code",
   "execution_count": null,
   "id": "95b14fab",
   "metadata": {},
   "outputs": [],
   "source": [
    "## Concat clean dataframes\n",
    "df_clean_d = pd.concat([databr_clean_d['2020_1'],databr_clean_d['2020_2'],\n",
    "          databr_clean_d['2021_1'],databr_clean_d['2021_2'],\n",
    "          databr_clean_d['2022_1'],databr_clean_d['2022_2']])"
   ]
  },
  {
   "cell_type": "code",
   "execution_count": null,
   "id": "e3284806",
   "metadata": {},
   "outputs": [],
   "source": [
    "## Transposing\n",
    "df_clean_d = df_clean_d.T"
   ]
  },
  {
   "cell_type": "code",
   "execution_count": null,
   "id": "b568f42c",
   "metadata": {},
   "outputs": [],
   "source": [
    "# Index Reset\n",
    "df_clean_d = df_clean_d.reset_index()"
   ]
  },
  {
   "cell_type": "code",
   "execution_count": null,
   "id": "785e9460",
   "metadata": {},
   "outputs": [],
   "source": [
    "# header / index reshaping\n",
    "\n",
    "new_header = df_clean_d.iloc[0] #grab the first row for the header\n",
    "df_clean_d = df_clean_d[1:] #take the data less the header row\n",
    "df_clean_d.columns = new_header #set the header row as the df header"
   ]
  },
  {
   "cell_type": "code",
   "execution_count": null,
   "id": "11cfc12e",
   "metadata": {},
   "outputs": [],
   "source": [
    "# Rename column 'estado' to match usa/world data\n",
    "\n",
    "df_clean_d = df_clean_d.rename(columns = {'estado':'Province_State'})"
   ]
  },
  {
   "cell_type": "code",
   "execution_count": null,
   "id": "7700c329",
   "metadata": {},
   "outputs": [],
   "source": [
    "## remove index header\n",
    "\n",
    "df_clean_d.columns = df_clean_d.columns.rename(None)"
   ]
  },
  {
   "cell_type": "code",
   "execution_count": null,
   "id": "fb311b94",
   "metadata": {},
   "outputs": [],
   "source": [
    "## Saved to csv alongside with USA and World data\n",
    "\n",
    "df_clean_d.to_csv('data/raw/brazil_deaths.csv', index= False)"
   ]
  }
 ],
 "metadata": {
  "kernelspec": {
   "display_name": "Python 3 (ipykernel)",
   "language": "python",
   "name": "python3"
  },
  "language_info": {
   "codemirror_mode": {
    "name": "ipython",
    "version": 3
   },
   "file_extension": ".py",
   "mimetype": "text/x-python",
   "name": "python",
   "nbconvert_exporter": "python",
   "pygments_lexer": "ipython3",
   "version": "3.10.1"
  }
 },
 "nbformat": 4,
 "nbformat_minor": 5
}
